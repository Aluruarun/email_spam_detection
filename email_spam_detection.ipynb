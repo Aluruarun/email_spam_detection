{
  "nbformat": 4,
  "nbformat_minor": 0,
  "metadata": {
    "colab": {
      "provenance": []
    },
    "kernelspec": {
      "name": "python3",
      "display_name": "Python 3"
    },
    "language_info": {
      "name": "python"
    }
  },
  "cells": [
    {
      "cell_type": "code",
      "execution_count": null,
      "metadata": {
        "id": "090ZDE_3vIru"
      },
      "outputs": [],
      "source": [
        "import pandas as pd\n",
        "import numpy as np\n",
        "from sklearn.model_selection import train_test_split\n",
        "from sklearn.linear_model import LogisticRegression\n",
        "from sklearn.neighbors import KNeighborsClassifier\n",
        "from sklearn.svm import SVC\n",
        "from sklearn.naive_bayes import GaussianNB\n",
        "from sklearn.tree import DecisionTreeClassifier\n",
        "from sklearn.ensemble import RandomForestClassifier, GradientBoostingClassifier\n",
        "from sklearn.metrics import accuracy_score, precision_score, recall_score, f1_score\n",
        "\n",
        "import matplotlib.pyplot as plt"
      ]
    },
    {
      "cell_type": "code",
      "source": [
        "# Load the data from csv file into a pandas dataframe\n",
        "df = pd.read_csv('emails.csv')\n",
        "\n"
      ],
      "metadata": {
        "id": "iQ7LMNWNvX72"
      },
      "execution_count": null,
      "outputs": []
    },
    {
      "cell_type": "code",
      "source": [
        "# Remove the first column (Email name) as it is not relevant for the prediction\n",
        "df = df.drop(columns=['Email No.'])\n",
        "\n",
        "# Replace non-numeric characters with NaN values\n",
        "df = df.replace(r'[^\\d.]+', value=float('nan'), regex=True)\n",
        "\n",
        "# Fill missing values with 0\n",
        "df.fillna(0, inplace=True)\n",
        "\n",
        "# Convert the data into integer type\n",
        "df = df.astype(int)\n",
        "df"
      ],
      "metadata": {
        "colab": {
          "base_uri": "https://localhost:8080/",
          "height": 487
        },
        "id": "vBzIR2xQvYCc",
        "outputId": "75ad0c86-9e76-436c-f24e-58dda9084dcd"
      },
      "execution_count": null,
      "outputs": [
        {
          "output_type": "execute_result",
          "data": {
            "text/plain": [
              "      the  to  ect  and  for  of    a  you  hou  in  ...  connevey  jay  \\\n",
              "0       0   0    1    0    0   0    2    0    0   0  ...         0    0   \n",
              "1       8  13   24    6    6   2  102    1   27  18  ...         0    0   \n",
              "2       0   0    1    0    0   0    8    0    0   4  ...         0    0   \n",
              "3       0   5   22    0    5   1   51    2   10   1  ...         0    0   \n",
              "4       7   6   17    1    5   2   57    0    9   3  ...         0    0   \n",
              "...   ...  ..  ...  ...  ...  ..  ...  ...  ...  ..  ...       ...  ...   \n",
              "1729   10   7    1    4    0   3   32    4    1  12  ...         0    0   \n",
              "1730    0   1    2    0    0   1    7    0    0   0  ...         0    0   \n",
              "1731    0   1    1    0    1   0    8    0    0   2  ...         0    0   \n",
              "1732    0   0    1    0    0   0    0    0    0   0  ...         0    0   \n",
              "1733    0   0    1    0    1   0    2    0    0   0  ...         0    0   \n",
              "\n",
              "      valued  lay  infrastructure  military  allowing  ff  dry  Prediction  \n",
              "0          0    0               0         0         0   0    0           0  \n",
              "1          0    0               0         0         0   1    0           0  \n",
              "2          0    0               0         0         0   0    0           0  \n",
              "3          0    0               0         0         0   0    0           0  \n",
              "4          0    0               0         0         0   1    0           0  \n",
              "...      ...  ...             ...       ...       ...  ..  ...         ...  \n",
              "1729       0    0               0         0         0   0    0           1  \n",
              "1730       0    0               0         0         0   2    0           0  \n",
              "1731       0    0               0         0         0   0    0           1  \n",
              "1732       0    0               0         0         0   0    0           1  \n",
              "1733       0    0               0         0         0   0    0           0  \n",
              "\n",
              "[1734 rows x 3001 columns]"
            ],
            "text/html": [
              "\n",
              "  <div id=\"df-b8cfb005-e519-4ffb-b00d-3a4a32bd554b\">\n",
              "    <div class=\"colab-df-container\">\n",
              "      <div>\n",
              "<style scoped>\n",
              "    .dataframe tbody tr th:only-of-type {\n",
              "        vertical-align: middle;\n",
              "    }\n",
              "\n",
              "    .dataframe tbody tr th {\n",
              "        vertical-align: top;\n",
              "    }\n",
              "\n",
              "    .dataframe thead th {\n",
              "        text-align: right;\n",
              "    }\n",
              "</style>\n",
              "<table border=\"1\" class=\"dataframe\">\n",
              "  <thead>\n",
              "    <tr style=\"text-align: right;\">\n",
              "      <th></th>\n",
              "      <th>the</th>\n",
              "      <th>to</th>\n",
              "      <th>ect</th>\n",
              "      <th>and</th>\n",
              "      <th>for</th>\n",
              "      <th>of</th>\n",
              "      <th>a</th>\n",
              "      <th>you</th>\n",
              "      <th>hou</th>\n",
              "      <th>in</th>\n",
              "      <th>...</th>\n",
              "      <th>connevey</th>\n",
              "      <th>jay</th>\n",
              "      <th>valued</th>\n",
              "      <th>lay</th>\n",
              "      <th>infrastructure</th>\n",
              "      <th>military</th>\n",
              "      <th>allowing</th>\n",
              "      <th>ff</th>\n",
              "      <th>dry</th>\n",
              "      <th>Prediction</th>\n",
              "    </tr>\n",
              "  </thead>\n",
              "  <tbody>\n",
              "    <tr>\n",
              "      <th>0</th>\n",
              "      <td>0</td>\n",
              "      <td>0</td>\n",
              "      <td>1</td>\n",
              "      <td>0</td>\n",
              "      <td>0</td>\n",
              "      <td>0</td>\n",
              "      <td>2</td>\n",
              "      <td>0</td>\n",
              "      <td>0</td>\n",
              "      <td>0</td>\n",
              "      <td>...</td>\n",
              "      <td>0</td>\n",
              "      <td>0</td>\n",
              "      <td>0</td>\n",
              "      <td>0</td>\n",
              "      <td>0</td>\n",
              "      <td>0</td>\n",
              "      <td>0</td>\n",
              "      <td>0</td>\n",
              "      <td>0</td>\n",
              "      <td>0</td>\n",
              "    </tr>\n",
              "    <tr>\n",
              "      <th>1</th>\n",
              "      <td>8</td>\n",
              "      <td>13</td>\n",
              "      <td>24</td>\n",
              "      <td>6</td>\n",
              "      <td>6</td>\n",
              "      <td>2</td>\n",
              "      <td>102</td>\n",
              "      <td>1</td>\n",
              "      <td>27</td>\n",
              "      <td>18</td>\n",
              "      <td>...</td>\n",
              "      <td>0</td>\n",
              "      <td>0</td>\n",
              "      <td>0</td>\n",
              "      <td>0</td>\n",
              "      <td>0</td>\n",
              "      <td>0</td>\n",
              "      <td>0</td>\n",
              "      <td>1</td>\n",
              "      <td>0</td>\n",
              "      <td>0</td>\n",
              "    </tr>\n",
              "    <tr>\n",
              "      <th>2</th>\n",
              "      <td>0</td>\n",
              "      <td>0</td>\n",
              "      <td>1</td>\n",
              "      <td>0</td>\n",
              "      <td>0</td>\n",
              "      <td>0</td>\n",
              "      <td>8</td>\n",
              "      <td>0</td>\n",
              "      <td>0</td>\n",
              "      <td>4</td>\n",
              "      <td>...</td>\n",
              "      <td>0</td>\n",
              "      <td>0</td>\n",
              "      <td>0</td>\n",
              "      <td>0</td>\n",
              "      <td>0</td>\n",
              "      <td>0</td>\n",
              "      <td>0</td>\n",
              "      <td>0</td>\n",
              "      <td>0</td>\n",
              "      <td>0</td>\n",
              "    </tr>\n",
              "    <tr>\n",
              "      <th>3</th>\n",
              "      <td>0</td>\n",
              "      <td>5</td>\n",
              "      <td>22</td>\n",
              "      <td>0</td>\n",
              "      <td>5</td>\n",
              "      <td>1</td>\n",
              "      <td>51</td>\n",
              "      <td>2</td>\n",
              "      <td>10</td>\n",
              "      <td>1</td>\n",
              "      <td>...</td>\n",
              "      <td>0</td>\n",
              "      <td>0</td>\n",
              "      <td>0</td>\n",
              "      <td>0</td>\n",
              "      <td>0</td>\n",
              "      <td>0</td>\n",
              "      <td>0</td>\n",
              "      <td>0</td>\n",
              "      <td>0</td>\n",
              "      <td>0</td>\n",
              "    </tr>\n",
              "    <tr>\n",
              "      <th>4</th>\n",
              "      <td>7</td>\n",
              "      <td>6</td>\n",
              "      <td>17</td>\n",
              "      <td>1</td>\n",
              "      <td>5</td>\n",
              "      <td>2</td>\n",
              "      <td>57</td>\n",
              "      <td>0</td>\n",
              "      <td>9</td>\n",
              "      <td>3</td>\n",
              "      <td>...</td>\n",
              "      <td>0</td>\n",
              "      <td>0</td>\n",
              "      <td>0</td>\n",
              "      <td>0</td>\n",
              "      <td>0</td>\n",
              "      <td>0</td>\n",
              "      <td>0</td>\n",
              "      <td>1</td>\n",
              "      <td>0</td>\n",
              "      <td>0</td>\n",
              "    </tr>\n",
              "    <tr>\n",
              "      <th>...</th>\n",
              "      <td>...</td>\n",
              "      <td>...</td>\n",
              "      <td>...</td>\n",
              "      <td>...</td>\n",
              "      <td>...</td>\n",
              "      <td>...</td>\n",
              "      <td>...</td>\n",
              "      <td>...</td>\n",
              "      <td>...</td>\n",
              "      <td>...</td>\n",
              "      <td>...</td>\n",
              "      <td>...</td>\n",
              "      <td>...</td>\n",
              "      <td>...</td>\n",
              "      <td>...</td>\n",
              "      <td>...</td>\n",
              "      <td>...</td>\n",
              "      <td>...</td>\n",
              "      <td>...</td>\n",
              "      <td>...</td>\n",
              "      <td>...</td>\n",
              "    </tr>\n",
              "    <tr>\n",
              "      <th>1729</th>\n",
              "      <td>10</td>\n",
              "      <td>7</td>\n",
              "      <td>1</td>\n",
              "      <td>4</td>\n",
              "      <td>0</td>\n",
              "      <td>3</td>\n",
              "      <td>32</td>\n",
              "      <td>4</td>\n",
              "      <td>1</td>\n",
              "      <td>12</td>\n",
              "      <td>...</td>\n",
              "      <td>0</td>\n",
              "      <td>0</td>\n",
              "      <td>0</td>\n",
              "      <td>0</td>\n",
              "      <td>0</td>\n",
              "      <td>0</td>\n",
              "      <td>0</td>\n",
              "      <td>0</td>\n",
              "      <td>0</td>\n",
              "      <td>1</td>\n",
              "    </tr>\n",
              "    <tr>\n",
              "      <th>1730</th>\n",
              "      <td>0</td>\n",
              "      <td>1</td>\n",
              "      <td>2</td>\n",
              "      <td>0</td>\n",
              "      <td>0</td>\n",
              "      <td>1</td>\n",
              "      <td>7</td>\n",
              "      <td>0</td>\n",
              "      <td>0</td>\n",
              "      <td>0</td>\n",
              "      <td>...</td>\n",
              "      <td>0</td>\n",
              "      <td>0</td>\n",
              "      <td>0</td>\n",
              "      <td>0</td>\n",
              "      <td>0</td>\n",
              "      <td>0</td>\n",
              "      <td>0</td>\n",
              "      <td>2</td>\n",
              "      <td>0</td>\n",
              "      <td>0</td>\n",
              "    </tr>\n",
              "    <tr>\n",
              "      <th>1731</th>\n",
              "      <td>0</td>\n",
              "      <td>1</td>\n",
              "      <td>1</td>\n",
              "      <td>0</td>\n",
              "      <td>1</td>\n",
              "      <td>0</td>\n",
              "      <td>8</td>\n",
              "      <td>0</td>\n",
              "      <td>0</td>\n",
              "      <td>2</td>\n",
              "      <td>...</td>\n",
              "      <td>0</td>\n",
              "      <td>0</td>\n",
              "      <td>0</td>\n",
              "      <td>0</td>\n",
              "      <td>0</td>\n",
              "      <td>0</td>\n",
              "      <td>0</td>\n",
              "      <td>0</td>\n",
              "      <td>0</td>\n",
              "      <td>1</td>\n",
              "    </tr>\n",
              "    <tr>\n",
              "      <th>1732</th>\n",
              "      <td>0</td>\n",
              "      <td>0</td>\n",
              "      <td>1</td>\n",
              "      <td>0</td>\n",
              "      <td>0</td>\n",
              "      <td>0</td>\n",
              "      <td>0</td>\n",
              "      <td>0</td>\n",
              "      <td>0</td>\n",
              "      <td>0</td>\n",
              "      <td>...</td>\n",
              "      <td>0</td>\n",
              "      <td>0</td>\n",
              "      <td>0</td>\n",
              "      <td>0</td>\n",
              "      <td>0</td>\n",
              "      <td>0</td>\n",
              "      <td>0</td>\n",
              "      <td>0</td>\n",
              "      <td>0</td>\n",
              "      <td>1</td>\n",
              "    </tr>\n",
              "    <tr>\n",
              "      <th>1733</th>\n",
              "      <td>0</td>\n",
              "      <td>0</td>\n",
              "      <td>1</td>\n",
              "      <td>0</td>\n",
              "      <td>1</td>\n",
              "      <td>0</td>\n",
              "      <td>2</td>\n",
              "      <td>0</td>\n",
              "      <td>0</td>\n",
              "      <td>0</td>\n",
              "      <td>...</td>\n",
              "      <td>0</td>\n",
              "      <td>0</td>\n",
              "      <td>0</td>\n",
              "      <td>0</td>\n",
              "      <td>0</td>\n",
              "      <td>0</td>\n",
              "      <td>0</td>\n",
              "      <td>0</td>\n",
              "      <td>0</td>\n",
              "      <td>0</td>\n",
              "    </tr>\n",
              "  </tbody>\n",
              "</table>\n",
              "<p>1734 rows × 3001 columns</p>\n",
              "</div>\n",
              "      <button class=\"colab-df-convert\" onclick=\"convertToInteractive('df-b8cfb005-e519-4ffb-b00d-3a4a32bd554b')\"\n",
              "              title=\"Convert this dataframe to an interactive table.\"\n",
              "              style=\"display:none;\">\n",
              "        \n",
              "  <svg xmlns=\"http://www.w3.org/2000/svg\" height=\"24px\"viewBox=\"0 0 24 24\"\n",
              "       width=\"24px\">\n",
              "    <path d=\"M0 0h24v24H0V0z\" fill=\"none\"/>\n",
              "    <path d=\"M18.56 5.44l.94 2.06.94-2.06 2.06-.94-2.06-.94-.94-2.06-.94 2.06-2.06.94zm-11 1L8.5 8.5l.94-2.06 2.06-.94-2.06-.94L8.5 2.5l-.94 2.06-2.06.94zm10 10l.94 2.06.94-2.06 2.06-.94-2.06-.94-.94-2.06-.94 2.06-2.06.94z\"/><path d=\"M17.41 7.96l-1.37-1.37c-.4-.4-.92-.59-1.43-.59-.52 0-1.04.2-1.43.59L10.3 9.45l-7.72 7.72c-.78.78-.78 2.05 0 2.83L4 21.41c.39.39.9.59 1.41.59.51 0 1.02-.2 1.41-.59l7.78-7.78 2.81-2.81c.8-.78.8-2.07 0-2.86zM5.41 20L4 18.59l7.72-7.72 1.47 1.35L5.41 20z\"/>\n",
              "  </svg>\n",
              "      </button>\n",
              "      \n",
              "  <style>\n",
              "    .colab-df-container {\n",
              "      display:flex;\n",
              "      flex-wrap:wrap;\n",
              "      gap: 12px;\n",
              "    }\n",
              "\n",
              "    .colab-df-convert {\n",
              "      background-color: #E8F0FE;\n",
              "      border: none;\n",
              "      border-radius: 50%;\n",
              "      cursor: pointer;\n",
              "      display: none;\n",
              "      fill: #1967D2;\n",
              "      height: 32px;\n",
              "      padding: 0 0 0 0;\n",
              "      width: 32px;\n",
              "    }\n",
              "\n",
              "    .colab-df-convert:hover {\n",
              "      background-color: #E2EBFA;\n",
              "      box-shadow: 0px 1px 2px rgba(60, 64, 67, 0.3), 0px 1px 3px 1px rgba(60, 64, 67, 0.15);\n",
              "      fill: #174EA6;\n",
              "    }\n",
              "\n",
              "    [theme=dark] .colab-df-convert {\n",
              "      background-color: #3B4455;\n",
              "      fill: #D2E3FC;\n",
              "    }\n",
              "\n",
              "    [theme=dark] .colab-df-convert:hover {\n",
              "      background-color: #434B5C;\n",
              "      box-shadow: 0px 1px 3px 1px rgba(0, 0, 0, 0.15);\n",
              "      filter: drop-shadow(0px 1px 2px rgba(0, 0, 0, 0.3));\n",
              "      fill: #FFFFFF;\n",
              "    }\n",
              "  </style>\n",
              "\n",
              "      <script>\n",
              "        const buttonEl =\n",
              "          document.querySelector('#df-b8cfb005-e519-4ffb-b00d-3a4a32bd554b button.colab-df-convert');\n",
              "        buttonEl.style.display =\n",
              "          google.colab.kernel.accessAllowed ? 'block' : 'none';\n",
              "\n",
              "        async function convertToInteractive(key) {\n",
              "          const element = document.querySelector('#df-b8cfb005-e519-4ffb-b00d-3a4a32bd554b');\n",
              "          const dataTable =\n",
              "            await google.colab.kernel.invokeFunction('convertToInteractive',\n",
              "                                                     [key], {});\n",
              "          if (!dataTable) return;\n",
              "\n",
              "          const docLinkHtml = 'Like what you see? Visit the ' +\n",
              "            '<a target=\"_blank\" href=https://colab.research.google.com/notebooks/data_table.ipynb>data table notebook</a>'\n",
              "            + ' to learn more about interactive tables.';\n",
              "          element.innerHTML = '';\n",
              "          dataTable['output_type'] = 'display_data';\n",
              "          await google.colab.output.renderOutput(dataTable, element);\n",
              "          const docLink = document.createElement('div');\n",
              "          docLink.innerHTML = docLinkHtml;\n",
              "          element.appendChild(docLink);\n",
              "        }\n",
              "      </script>\n",
              "    </div>\n",
              "  </div>\n",
              "  "
            ]
          },
          "metadata": {},
          "execution_count": 7
        }
      ]
    },
    {
      "cell_type": "code",
      "source": [
        "# Split the data into features (X) and labels (y)\n",
        "X = df.iloc[:, :-1].values\n",
        "y = df.iloc[:, -1].values"
      ],
      "metadata": {
        "id": "CIruCbk7vYF-"
      },
      "execution_count": null,
      "outputs": []
    },
    {
      "cell_type": "code",
      "source": [
        "# Split the data into training and testing sets\n",
        "X_train, X_test, y_train, y_test = train_test_split(X, y, test_size=0.2, random_state=0)"
      ],
      "metadata": {
        "id": "bpwMRCZpvYJd"
      },
      "execution_count": null,
      "outputs": []
    },
    {
      "cell_type": "code",
      "source": [
        "# Define a dictionary to store the results of each model\n",
        "results = {}"
      ],
      "metadata": {
        "id": "e9suHJe2weXK"
      },
      "execution_count": null,
      "outputs": []
    },
    {
      "cell_type": "code",
      "source": [
        "# Train Logistic Regression model\n",
        "model_LR = LogisticRegression()\n",
        "model_LR.fit(X_train, y_train)\n",
        "\n",
        "# Predict the target values for test set\n",
        "y_pred_LR = model_LR.predict(X_test)\n",
        "\n",
        "# Evaluate the Logistic Regression model\n",
        "accuracy_LR = accuracy_score(y_test, y_pred_LR)\n",
        "precision_LR = precision_score(y_test, y_pred_LR)\n",
        "recall_LR = recall_score(y_test, y_pred_LR)\n",
        "f1_LR = f1_score(y_test, y_pred_LR)\n",
        "\n",
        "# Store the results of Logistic Regression model in the dictionary\n",
        "results[\"Logistic Regression\"] = {\"accuracy\": accuracy_LR, \n",
        "                                  \"precision\": precision_LR, \n",
        "                                  \"recall\": recall_LR, \n",
        "                                  \"f1_score\": f1_LR\n",
        "                                 }"
      ],
      "metadata": {
        "colab": {
          "base_uri": "https://localhost:8080/"
        },
        "id": "H9zehXVLweaP",
        "outputId": "4fd0c36b-32eb-4664-8a49-ed10915b4a75"
      },
      "execution_count": null,
      "outputs": [
        {
          "output_type": "stream",
          "name": "stderr",
          "text": [
            "/usr/local/lib/python3.8/dist-packages/sklearn/linear_model/_logistic.py:814: ConvergenceWarning: lbfgs failed to converge (status=1):\n",
            "STOP: TOTAL NO. of ITERATIONS REACHED LIMIT.\n",
            "\n",
            "Increase the number of iterations (max_iter) or scale the data as shown in:\n",
            "    https://scikit-learn.org/stable/modules/preprocessing.html\n",
            "Please also refer to the documentation for alternative solver options:\n",
            "    https://scikit-learn.org/stable/modules/linear_model.html#logistic-regression\n",
            "  n_iter_i = _check_optimize_result(\n"
          ]
        }
      ]
    },
    {
      "cell_type": "code",
      "source": [
        "# Train KNN model\n",
        "model_KNN = KNeighborsClassifier()\n",
        "model_KNN.fit(X_train, y_train)\n",
        "\n",
        "# Predict the target values for test set\n",
        "y_pred_KNN = model_KNN.predict(X_test)\n",
        "\n",
        "# Evaluate the KNN model\n",
        "accuracy_KNN = accuracy_score(y_test, y_pred_KNN)\n",
        "precision_KNN = precision_score(y_test, y_pred_KNN)\n",
        "recall_KNN = recall_score(y_test, y_pred_KNN)\n",
        "f1_KNN = f1_score(y_test, y_pred_KNN)\n",
        "\n",
        "# Store the results of KNN model in the dictionary\n",
        "results[\"KNN\"] = {\"accuracy\": accuracy_KNN, \n",
        "                  \"precision\": precision_KNN, \n",
        "                  \"recall\": recall_KNN, \n",
        "                  \"f1_score\": f1_KNN\n",
        "                 }"
      ],
      "metadata": {
        "id": "whL0z2wdwedN"
      },
      "execution_count": null,
      "outputs": []
    },
    {
      "cell_type": "code",
      "source": [
        "# Train SVM model\n",
        "model_SVM = SVC()\n",
        "model_SVM.fit(X_train, y_train)\n",
        "\n",
        "# Predict the target values for test set\n",
        "y_pred_SVM = model_SVM.predict(X_test)\n",
        "\n",
        "# Evaluate the SVM model\n",
        "accuracy_SVM = accuracy_score(y_test, y_pred_SVM)\n",
        "precision_SVM = precision_score(y_test, y_pred_SVM)\n",
        "recall_SVM = recall_score(y_test, y_pred_SVM)\n",
        "f1_SVM = f1_score(y_test, y_pred_SVM)\n",
        "\n",
        "# Store the results of SVM model in the dictionary\n",
        "results[\"SVM\"] = {\"accuracy\": accuracy_SVM, \n",
        "                  \"precision\": precision_SVM, \n",
        "                  \"recall\": recall_SVM, \n",
        "                  \"f1_score\": f1_SVM\n",
        "                 }"
      ],
      "metadata": {
        "id": "wUS6oePewegG"
      },
      "execution_count": null,
      "outputs": []
    },
    {
      "cell_type": "code",
      "source": [
        "# Train Naive Bayes model\n",
        "model_NB = GaussianNB()\n",
        "model_NB.fit(X_train, y_train)\n",
        "\n",
        "# Predict the target values for test set\n",
        "y_pred_NB = model_NB.predict(X_test)\n",
        "\n",
        "# Evaluate the Naive Bayes model\n",
        "accuracy_NB = accuracy_score(y_test, y_pred_NB)\n",
        "precision_NB = precision_score(y_test, y_pred_NB)\n",
        "recall_NB = recall_score(y_test, y_pred_NB)\n",
        "f1_NB = f1_score(y_test, y_pred_NB)\n",
        "\n",
        "# Store the results of Naive Bayes model in the dictionary\n",
        "results[\"Naive Bayes\"] = {\"accuracy\": accuracy_NB, \n",
        "                          \"precision\": precision_NB, \n",
        "                          \"recall\": recall_NB, \n",
        "                          \"f1_score\": f1_NB\n",
        "                         }"
      ],
      "metadata": {
        "id": "Tnl24JNbwei2"
      },
      "execution_count": null,
      "outputs": []
    },
    {
      "cell_type": "code",
      "source": [
        "# Train Decision Tree model\n",
        "model_DT = DecisionTreeClassifier()\n",
        "model_DT.fit(X_train, y_train)\n",
        "\n",
        "# Predict the target values for test set\n",
        "y_pred_DT = model_DT.predict(X_test)\n",
        "\n",
        "# Evaluate the Decision Tree model\n",
        "accuracy_DT = accuracy_score(y_test, y_pred_DT)\n",
        "precision_DT = precision_score(y_test, y_pred_DT)\n",
        "recall_DT = recall_score(y_test, y_pred_DT)\n",
        "f1_DT = f1_score(y_test, y_pred_DT)\n",
        "\n",
        "# Store the results of Decision Tree model in the dictionary\n",
        "results[\"Decision Tree\"] = {\"accuracy\": accuracy_DT, \n",
        "                            \"precision\": precision_DT, \n",
        "                            \"recall\": recall_DT, \n",
        "                            \"f1_score\": f1_DT\n",
        "                           }"
      ],
      "metadata": {
        "id": "-9_m-jBgwelv"
      },
      "execution_count": null,
      "outputs": []
    },
    {
      "cell_type": "code",
      "source": [
        "# Train Random Forest model\n",
        "model_RF = RandomForestClassifier()\n",
        "model_RF.fit(X_train, y_train)\n",
        "\n",
        "# Predict the target values for test set\n",
        "y_pred_RF = model_RF.predict(X_test)\n",
        "\n",
        "# Evaluate the Random Forest model\n",
        "accuracy_RF = accuracy_score(y_test, y_pred_RF)\n",
        "precision_RF = precision_score(y_test, y_pred_RF)\n",
        "recall_RF = recall_score(y_test, y_pred_RF)\n",
        "f1_RF = f1_score(y_test, y_pred_RF)\n",
        "\n",
        "# Store the results of Random Forest model in the dictionary\n",
        "results[\"Random Forest\"] = {\"accuracy\": accuracy_RF, \n",
        "                            \"precision\": precision_RF, \n",
        "                            \"recall\": recall_RF, \n",
        "                            \"f1_score\": f1_RF\n",
        "                           }"
      ],
      "metadata": {
        "id": "HGfBL2eUweoF"
      },
      "execution_count": null,
      "outputs": []
    },
    {
      "cell_type": "code",
      "source": [
        "# Train Logistic Regression model\n",
        "model_LR = LogisticRegression()\n",
        "model_LR.fit(X_train, y_train)\n",
        "\n",
        "# Predict the target values for test set\n",
        "y_pred_LR = model_LR.predict(X_test)\n",
        "\n",
        "# Evaluate the Logistic Regression model\n",
        "accuracy_LR = accuracy_score(y_test, y_pred_LR)\n",
        "precision_LR = precision_score(y_test, y_pred_LR)\n",
        "recall_LR = recall_score(y_test, y_pred_LR)\n",
        "f1_LR = f1_score(y_test, y_pred_LR)\n",
        "\n",
        "# Store the results of Logistic Regression model in the dictionary\n",
        "results[\"Logistic Regression\"] = {\"accuracy\": accuracy_LR, \n",
        "                                  \"precision\": precision_LR, \n",
        "                                  \"recall\": recall_LR, \n",
        "                                  \"f1_score\": f1_LR\n",
        "                                 }"
      ],
      "metadata": {
        "colab": {
          "base_uri": "https://localhost:8080/"
        },
        "id": "t_T75qBYweq4",
        "outputId": "900d170b-e5aa-44d3-ba17-232e89fd099d"
      },
      "execution_count": null,
      "outputs": [
        {
          "output_type": "stream",
          "name": "stderr",
          "text": [
            "/usr/local/lib/python3.8/dist-packages/sklearn/linear_model/_logistic.py:814: ConvergenceWarning: lbfgs failed to converge (status=1):\n",
            "STOP: TOTAL NO. of ITERATIONS REACHED LIMIT.\n",
            "\n",
            "Increase the number of iterations (max_iter) or scale the data as shown in:\n",
            "    https://scikit-learn.org/stable/modules/preprocessing.html\n",
            "Please also refer to the documentation for alternative solver options:\n",
            "    https://scikit-learn.org/stable/modules/linear_model.html#logistic-regression\n",
            "  n_iter_i = _check_optimize_result(\n"
          ]
        }
      ]
    },
    {
      "cell_type": "code",
      "source": [
        "# Print the final results of all models\n",
        "results"
      ],
      "metadata": {
        "colab": {
          "base_uri": "https://localhost:8080/"
        },
        "id": "7OK8OK3Twetj",
        "outputId": "68c5f368-6d2c-4bb6-d562-fdd67649f901"
      },
      "execution_count": null,
      "outputs": [
        {
          "output_type": "execute_result",
          "data": {
            "text/plain": [
              "{'Logistic Regression': {'accuracy': 0.9567723342939481,\n",
              "  'precision': 0.9042553191489362,\n",
              "  'recall': 0.9340659340659341,\n",
              "  'f1_score': 0.918918918918919},\n",
              " 'KNN': {'accuracy': 0.8847262247838616,\n",
              "  'precision': 0.7475728155339806,\n",
              "  'recall': 0.8461538461538461,\n",
              "  'f1_score': 0.7938144329896907},\n",
              " 'SVM': {'accuracy': 0.8069164265129684,\n",
              "  'precision': 0.9615384615384616,\n",
              "  'recall': 0.27472527472527475,\n",
              "  'f1_score': 0.42735042735042744},\n",
              " 'Naive Bayes': {'accuracy': 0.9538904899135446,\n",
              "  'precision': 0.8947368421052632,\n",
              "  'recall': 0.9340659340659341,\n",
              "  'f1_score': 0.913978494623656},\n",
              " 'Decision Tree': {'accuracy': 0.9337175792507204,\n",
              "  'precision': 0.8777777777777778,\n",
              "  'recall': 0.8681318681318682,\n",
              "  'f1_score': 0.8729281767955802},\n",
              " 'Random Forest': {'accuracy': 0.968299711815562,\n",
              "  'precision': 0.9761904761904762,\n",
              "  'recall': 0.9010989010989011,\n",
              "  'f1_score': 0.937142857142857}}"
            ]
          },
          "metadata": {},
          "execution_count": 18
        }
      ]
    },
    {
      "cell_type": "code",
      "source": [
        "# Plot the accuracy of all models\n",
        "plt.figure(figsize=(10,5))\n",
        "plt.bar(results.keys(), [result[\"accuracy\"] for result in results.values()])\n",
        "plt.title(\"Accuracy of Different Models\")\n",
        "plt.xlabel(\"Models\")\n",
        "plt.ylabel(\"Accuracy\")\n",
        "plt.ylim(0, 1)\n",
        "plt.show()"
      ],
      "metadata": {
        "colab": {
          "base_uri": "https://localhost:8080/",
          "height": 350
        },
        "id": "zIDCJhl_wewi",
        "outputId": "3f7f5226-c37a-4016-acec-237a9c49dd50"
      },
      "execution_count": null,
      "outputs": [
        {
          "output_type": "display_data",
          "data": {
            "text/plain": [
              "<Figure size 720x360 with 1 Axes>"
            ],
            "image/png": "[encoded data removed]"
          },
          "metadata": {
            "needs_background": "light"
          }
        }
      ]
    },
    {
      "cell_type": "code",
      "source": [
        "# Plot the precision of all models\n",
        "plt.figure(figsize=(10,5))\n",
        "plt.bar(results.keys(), [result[\"precision\"] for result in results.values()])\n",
        "plt.title(\"Precision of Different Models\")\n",
        "plt.xlabel(\"Models\")\n",
        "plt.ylabel(\"Precision\")\n",
        "plt.ylim(0, 1)\n",
        "plt.show()"
      ],
      "metadata": {
        "colab": {
          "base_uri": "https://localhost:8080/",
          "height": 350
        },
        "id": "9C8ghfEnwez2",
        "outputId": "1aa7568c-9c24-402a-89f3-21bfb24f68e7"
      },
      "execution_count": null,
      "outputs": [
        {
          "output_type": "display_data",
          "data": {
            "text/plain": [
              "<Figure size 720x360 with 1 Axes>"
            ],
            "image/png": "[encoded data removed]"
          },
          "metadata": {
            "needs_background": "light"
          }
        }
      ]
    },
    {
      "cell_type": "code",
      "source": [
        "# Plot the recall of all models\n",
        "plt.figure(figsize=(10,5))\n",
        "plt.bar(results.keys(), [result[\"recall\"] for result in results.values()])\n",
        "plt.title(\"Recall of Different Models\")\n",
        "plt.xlabel(\"Models\")\n",
        "plt.ylabel(\"Recall\")\n",
        "plt.ylim(0, 1)\n",
        "plt.show()"
      ],
      "metadata": {
        "colab": {
          "base_uri": "https://localhost:8080/",
          "height": 350
        },
        "id": "QT4BaDJnxbWM",
        "outputId": "cd025d47-d2d2-4b3a-ead1-f4d1bccef08c"
      },
      "execution_count": null,
      "outputs": [
        {
          "output_type": "display_data",
          "data": {
            "text/plain": [
              "<Figure size 720x360 with 1 Axes>"
            ],
            "image/png": "[encoded data removed]"
          },
          "metadata": {
            "needs_background": "light"
          }
        }
      ]
    },
    {
      "cell_type": "code",
      "source": [
        "# Plot the recall of all models\n",
        "plt.figure(figsize=(10,5))\n",
        "plt.bar(results.keys(), [result[\"recall\"] for result in results.values()])\n",
        "plt.title(\"Recall of Different Models\")\n",
        "plt.xlabel(\"Models\")\n",
        "plt.ylabel(\"Recall\")\n",
        "plt.ylim(0, 1)\n",
        "plt.show()"
      ],
      "metadata": {
        "colab": {
          "base_uri": "https://localhost:8080/",
          "height": 350
        },
        "id": "T2i-rAB-xbZK",
        "outputId": "f00129d2-f6af-4d39-c021-dbde5c69dfc5"
      },
      "execution_count": null,
      "outputs": [
        {
          "output_type": "display_data",
          "data": {
            "text/plain": [
              "<Figure size 720x360 with 1 Axes>"
            ],
            "image/png": "[encoded data removed]"
          },
          "metadata": {
            "needs_background": "light"
          }
        }
      ]
    },
    {
      "cell_type": "code",
      "source": [
        "# extract metrics values\n",
        "accuracies = [results[model]['accuracy'] for model in results]\n",
        "precisions = [results[model]['precision'] for model in results]\n",
        "recalls = [results[model]['recall'] for model in results]\n",
        "f1_scores = [results[model]['f1_score'] for model in results]\n",
        "\n",
        "# plot bar chart\n",
        "bar_width = 0.2\n",
        "index = np.arange(len(results))\n",
        "\n",
        "plt.bar(index, accuracies, bar_width, label='Accuracy')\n",
        "plt.bar(index + bar_width, precisions, bar_width, label='Precision')\n",
        "plt.bar(index + 2 * bar_width, recalls, bar_width, label='Recall')\n",
        "plt.bar(index + 3 * bar_width, f1_scores, bar_width, label='F1 Score')\n",
        "\n",
        "plt.xticks(index + bar_width, list(results.keys()))\n",
        "plt.legend()\n",
        "plt.show()"
      ],
      "metadata": {
        "colab": {
          "base_uri": "https://localhost:8080/",
          "height": 265
        },
        "id": "rUHapaxYxbb-",
        "outputId": "4a0eabe1-e8ae-4228-809a-bda4b6be8662"
      },
      "execution_count": null,
      "outputs": [
        {
          "output_type": "display_data",
          "data": {
            "text/plain": [
              "<Figure size 432x288 with 1 Axes>"
            ],
            "image/png": "[encoded data removed]"
          },
          "metadata": {
            "needs_background": "light"
          }
        }
      ]
    }
  ]
}